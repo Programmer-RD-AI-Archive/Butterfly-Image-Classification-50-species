{
 "cells": [
  {
   "cell_type": "code",
   "execution_count": 1,
   "id": "0c39c5bc-9fec-4644-ab99-537227b6d9f5",
   "metadata": {},
   "outputs": [],
   "source": [
    "from sklearn.model_selection import train_test_split\n",
    "import os,cv2\n",
    "import numpy as np\n",
    "import matplotlib.pyplot as plt\n",
    "from torch.nn import *\n",
    "import torch,torchvision\n",
    "from tqdm import tqdm\n",
    "device = 'cuda'\n",
    "PROJECT_NAME = 'Butterfly-Image-Classification-50-species'"
   ]
  },
  {
   "cell_type": "code",
   "execution_count": 2,
   "id": "54dbca6f-35da-46fd-8090-e85bfb175ecf",
   "metadata": {},
   "outputs": [],
   "source": [
    "def load_data():\n",
    "    labels = {}\n",
    "    labels_r = {}\n",
    "    idx = -1\n",
    "    data = []\n",
    "    for folder in tqdm(os.listdir('./data/')):\n",
    "        idx += 1\n",
    "        labels[folder] = idx\n",
    "        labels_r[idx] = folder\n",
    "        for file in os.listdir(f'./data/{folder}/'):\n",
    "            img = cv2.imread(f'./data/{folder}/{file}')\n",
    "            img = cv2.resize(img,(112,112))\n",
    "            data.append([img/255.0,idx])\n",
    "    np.random.shuffle(data)\n",
    "    X = []\n",
    "    y = []\n",
    "    for d in data:\n",
    "        X.append(d[0])\n",
    "        y.append(d[1])\n",
    "    X_train,X_test,y_train,y_test = train_test_split(X,y,test_size=0.25,shuffle=False)\n",
    "    X_train = torch.from_numpy(np.array(X_train)).float()\n",
    "    y_train = torch.from_numpy(np.array(y_train)).float()\n",
    "    X_test = torch.from_numpy(np.array(X_test)).float()\n",
    "    y_test = torch.from_numpy(np.array(y_test)).float()\n",
    "    return X_train,X_test,y_train,y_test,X,y,labels,labels_r,idx,data"
   ]
  },
  {
   "cell_type": "code",
   "execution_count": 3,
   "id": "041d80e7-a4a1-4cd8-bd6d-666d5b42eb93",
   "metadata": {},
   "outputs": [
    {
     "name": "stderr",
     "output_type": "stream",
     "text": [
      "100%|███████████████████████████████████████████| 50/50 [00:03<00:00, 14.47it/s]\n"
     ]
    }
   ],
   "source": [
    "X_train,X_test,y_train,y_test,X,y,labels,labels_r,idx,data = load_data()"
   ]
  },
  {
   "cell_type": "code",
   "execution_count": 4,
   "id": "64de765e-d6cb-4c84-bbf6-46bfa9f784e9",
   "metadata": {},
   "outputs": [],
   "source": [
    "X_train = torch.from_numpy(np.array(X_train)).view(-1,3,112,112).to(device).float()\n",
    "X_test = torch.from_numpy(np.array(X_test)).view(-1,3,112,112).to(device).float()\n",
    "y_train = torch.from_numpy(np.array(y_train)).to(device)\n",
    "y_test = torch.from_numpy(np.array(y_test)).to(device)"
   ]
  },
  {
   "cell_type": "code",
   "execution_count": 5,
   "id": "24faea4b-b8d3-4ae9-8d76-bd2526aebc06",
   "metadata": {},
   "outputs": [],
   "source": [
    "def get_loss(model,X,y,criterion):\n",
    "    preds = model(X)\n",
    "    loss = criterion(preds,y.long())\n",
    "    return loss.item()"
   ]
  },
  {
   "cell_type": "code",
   "execution_count": 6,
   "id": "0f32085f-581e-4129-a637-d250e39a3994",
   "metadata": {},
   "outputs": [],
   "source": [
    "def get_accuracy(model,X,y):\n",
    "    correct = 0\n",
    "    total = 0\n",
    "    preds = model(X)\n",
    "    for pred,y_batch in zip(preds,y):\n",
    "        pred = int(torch.argmax(pred))\n",
    "        if pred == y_batch:\n",
    "            correct += 1\n",
    "        total += 1\n",
    "    acc = round(correct/total,3)*100\n",
    "    return acc"
   ]
  },
  {
   "cell_type": "code",
   "execution_count": 28,
   "id": "4472565c-2f0c-4e9d-9bf3-77d6c40d92db",
   "metadata": {},
   "outputs": [],
   "source": [
    "def get_pred(model):\n",
    "    model.eval()\n",
    "    for file in os.listdir('./test_data/'):\n",
    "        img = cv2.imread(f'./test_data/{file}')\n",
    "        img = cv2.resize(img,(112,112))\n",
    "        img = torch.from_numpy(np.array(img)).view(-1,3,112,112)\n",
    "        preds = model(img.float().to(device))\n",
    "        preds = torch.argmax(preds)\n",
    "        preds = labels_r[int(preds)]\n",
    "        plt.figure(figsize=(12,6))\n",
    "        plt.imshow(img.view(112,112,3))\n",
    "        plt.title(f'{preds}')\n",
    "        plt.savefig(f'./preds/{file}')\n",
    "        plt.close()\n",
    "    model.train()"
   ]
  },
  {
   "cell_type": "code",
   "execution_count": 29,
   "id": "f80e3637-7315-4cc7-84d9-e204c63ac6eb",
   "metadata": {},
   "outputs": [],
   "source": [
    "class Model(Module):\n",
    "    def __init__(self):\n",
    "        super().__init__()\n",
    "        self.max_pool2d = MaxPool2d((2,2),(2,2))\n",
    "        self.activation = ReLU()\n",
    "        self.conv1d = Conv2d(3,6,(3,3))\n",
    "        self.conv1dbatchnorm = BatchNorm2d(6)\n",
    "        self.conv2d = Conv2d(6,9,(3,3))\n",
    "        self.conv2dbatchnorm = BatchNorm2d(9)\n",
    "        self.conv3d = Conv2d(9,12,(3,3))\n",
    "        self.conv3dbatchnorm = BatchNorm2d(12)\n",
    "        self.conv4d = Conv2d(12,15,(3,3))\n",
    "        self.conv4dbatchnorm = BatchNorm2d(15)\n",
    "        self.conv5d = Conv2d(15,18,(3,3))\n",
    "        self.conv5dbatchnorm = BatchNorm2d(18)\n",
    "        self.linear1 = Linear(18*1*1,128)\n",
    "        self.linear1batchnorm = BatchNorm1d(128)\n",
    "        self.linear2 = Linear(128,256)\n",
    "        self.linear2batchnorm = BatchNorm1d(256)\n",
    "        self.linear3 = Linear(256,512)\n",
    "        self.linear3batchnorm = BatchNorm1d(512)\n",
    "        self.linear4 = Linear(512,256)\n",
    "        self.linear4batchnorm = BatchNorm1d(256)\n",
    "        self.linear5 = Linear(256,idx+1)\n",
    "    \n",
    "    def forward(self,X):\n",
    "        preds = self.activation(self.max_pool2d(self.conv1dbatchnorm(self.conv1d(X))))\n",
    "        preds = self.activation(self.max_pool2d(self.conv2dbatchnorm(self.conv2d(preds))))\n",
    "        preds = self.activation(self.max_pool2d(self.conv3dbatchnorm(self.conv3d(preds))))\n",
    "        preds = self.activation(self.max_pool2d(self.conv4dbatchnorm(self.conv4d(preds))))\n",
    "        preds = self.activation(self.max_pool2d(self.conv5dbatchnorm(self.conv5d(preds))))\n",
    "#         print(preds.shape)\n",
    "        preds = preds.view(-1,18*1*1)\n",
    "        preds = self.activation(self.linear1batchnorm(self.linear1(preds)))\n",
    "        preds = self.activation(self.linear2batchnorm(self.linear2(preds)))\n",
    "        preds = self.activation(self.linear3batchnorm(self.linear3(preds)))\n",
    "        preds = self.activation(self.linear4batchnorm(self.linear4(preds)))\n",
    "        preds = self.linear5(preds)\n",
    "        return preds"
   ]
  },
  {
   "cell_type": "code",
   "execution_count": 30,
   "id": "0d54a090-9418-4b6b-a3af-4f4eb07f73be",
   "metadata": {},
   "outputs": [],
   "source": [
    "model = Model().to(device)"
   ]
  },
  {
   "cell_type": "code",
   "execution_count": 31,
   "id": "0551f89a-d45d-458d-be1c-1e37cea618fa",
   "metadata": {},
   "outputs": [],
   "source": [
    "criterion = CrossEntropyLoss()"
   ]
  },
  {
   "cell_type": "code",
   "execution_count": 32,
   "id": "7afb7398-0f6b-459d-9f23-ad8ab3f375a0",
   "metadata": {},
   "outputs": [],
   "source": [
    "from torch.optim import *"
   ]
  },
  {
   "cell_type": "code",
   "execution_count": 33,
   "id": "94f9cb48-fe40-4a79-95a7-37316ac8df07",
   "metadata": {},
   "outputs": [],
   "source": [
    "optimizer = Adam(model.parameters(),lr=0.001)"
   ]
  },
  {
   "cell_type": "code",
   "execution_count": 34,
   "id": "78671230-24a9-4788-9735-97a2b68b1688",
   "metadata": {},
   "outputs": [],
   "source": [
    "epochs = 100"
   ]
  },
  {
   "cell_type": "code",
   "execution_count": 35,
   "id": "0fe614fa-cd1f-4b75-964a-35927b9e691d",
   "metadata": {},
   "outputs": [],
   "source": [
    "batch_size = 32"
   ]
  },
  {
   "cell_type": "code",
   "execution_count": 36,
   "id": "2f93e426-7c35-4fd1-9d95-d5da2e4f5924",
   "metadata": {},
   "outputs": [],
   "source": [
    "import wandb"
   ]
  },
  {
   "cell_type": "code",
   "execution_count": null,
   "id": "3092e800-a3ea-48bf-879d-4439e8bfcfa1",
   "metadata": {},
   "outputs": [
    {
     "data": {
      "text/html": [
       "Finishing last run (ID:c0d8unwu) before initializing another..."
      ],
      "text/plain": [
       "<IPython.core.display.HTML object>"
      ]
     },
     "metadata": {},
     "output_type": "display_data"
    },
    {
     "data": {
      "text/html": [
       "<br/>Waiting for W&B process to finish, PID 102571<br/>Program ended successfully."
      ],
      "text/plain": [
       "<IPython.core.display.HTML object>"
      ]
     },
     "metadata": {},
     "output_type": "display_data"
    },
    {
     "data": {
      "application/vnd.jupyter.widget-view+json": {
       "model_id": "",
       "version_major": 2,
       "version_minor": 0
      },
      "text/plain": [
       "VBox(children=(Label(value=' 0.00MB of 0.00MB uploaded (0.00MB deduped)\\r'), FloatProgress(value=1.0, max=1.0)…"
      ]
     },
     "metadata": {},
     "output_type": "display_data"
    },
    {
     "data": {
      "text/html": [
       "Find user logs for this run at: <code>/home/indika/Programming/Projects/Python/Artifical-Intelligence/PyTorch/CNN/Butterfly-Image-Classification-50-species/wandb/run-20210904_174915-c0d8unwu/logs/debug.log</code>"
      ],
      "text/plain": [
       "<IPython.core.display.HTML object>"
      ]
     },
     "metadata": {},
     "output_type": "display_data"
    },
    {
     "data": {
      "text/html": [
       "Find internal logs for this run at: <code>/home/indika/Programming/Projects/Python/Artifical-Intelligence/PyTorch/CNN/Butterfly-Image-Classification-50-species/wandb/run-20210904_174915-c0d8unwu/logs/debug-internal.log</code>"
      ],
      "text/plain": [
       "<IPython.core.display.HTML object>"
      ]
     },
     "metadata": {},
     "output_type": "display_data"
    },
    {
     "data": {
      "text/html": [
       "<h3>Run summary:</h3><br/><style>\n",
       "    table.wandb td:nth-child(1) { padding: 0 10px; text-align: right }\n",
       "    </style><table class=\"wandb\">\n",
       "<tr><td>Loss</td><td>3.15133</td></tr><tr><td>_runtime</td><td>8</td></tr><tr><td>_timestamp</td><td>1630757976</td></tr><tr><td>_step</td><td>3</td></tr><tr><td>Val Loss</td><td>3.28501</td></tr><tr><td>Acc</td><td>15.9</td></tr><tr><td>Val Acc</td><td>13.6</td></tr></table>"
      ],
      "text/plain": [
       "<IPython.core.display.HTML object>"
      ]
     },
     "metadata": {},
     "output_type": "display_data"
    },
    {
     "data": {
      "text/html": [
       "<h3>Run history:</h3><br/><style>\n",
       "    table.wandb td:nth-child(1) { padding: 0 10px; text-align: right }\n",
       "    </style><table class=\"wandb\">\n",
       "<tr><td>Loss</td><td>▁</td></tr><tr><td>_runtime</td><td>▁▁██</td></tr><tr><td>_timestamp</td><td>▁▁██</td></tr><tr><td>_step</td><td>▁▃▆█</td></tr><tr><td>Val Loss</td><td>▁</td></tr><tr><td>Acc</td><td>▁</td></tr><tr><td>Val Acc</td><td>▁</td></tr></table><br/>"
      ],
      "text/plain": [
       "<IPython.core.display.HTML object>"
      ]
     },
     "metadata": {},
     "output_type": "display_data"
    },
    {
     "data": {
      "text/html": [
       "Synced 6 W&B file(s), 0 media file(s), 0 artifact file(s) and 0 other file(s)"
      ],
      "text/plain": [
       "<IPython.core.display.HTML object>"
      ]
     },
     "metadata": {},
     "output_type": "display_data"
    },
    {
     "data": {
      "text/html": [
       "\n",
       "                    <br/>Synced <strong style=\"color:#cdcd00\">baseline</strong>: <a href=\"https://wandb.ai/ranuga-d/Butterfly-Image-Classification-50-species/runs/c0d8unwu\" target=\"_blank\">https://wandb.ai/ranuga-d/Butterfly-Image-Classification-50-species/runs/c0d8unwu</a><br/>\n",
       "                "
      ],
      "text/plain": [
       "<IPython.core.display.HTML object>"
      ]
     },
     "metadata": {},
     "output_type": "display_data"
    },
    {
     "data": {
      "text/html": [
       "...Successfully finished last run (ID:c0d8unwu). Initializing new run:<br/><br/>"
      ],
      "text/plain": [
       "<IPython.core.display.HTML object>"
      ]
     },
     "metadata": {},
     "output_type": "display_data"
    },
    {
     "name": "stderr",
     "output_type": "stream",
     "text": [
      "\u001b[34m\u001b[1mwandb\u001b[0m: wandb version 0.12.1 is available!  To upgrade, please run:\n",
      "\u001b[34m\u001b[1mwandb\u001b[0m:  $ pip install wandb --upgrade\n"
     ]
    },
    {
     "data": {
      "text/html": [
       "\n",
       "                Tracking run with wandb version 0.12.0<br/>\n",
       "                Syncing run <strong style=\"color:#cdcd00\">baseline</strong> to <a href=\"https://wandb.ai\" target=\"_blank\">Weights & Biases</a> <a href=\"https://docs.wandb.com/integrations/jupyter.html\" target=\"_blank\">(Documentation)</a>.<br/>\n",
       "                Project page: <a href=\"https://wandb.ai/ranuga-d/Butterfly-Image-Classification-50-species\" target=\"_blank\">https://wandb.ai/ranuga-d/Butterfly-Image-Classification-50-species</a><br/>\n",
       "                Run page: <a href=\"https://wandb.ai/ranuga-d/Butterfly-Image-Classification-50-species/runs/eysawxaj\" target=\"_blank\">https://wandb.ai/ranuga-d/Butterfly-Image-Classification-50-species/runs/eysawxaj</a><br/>\n",
       "                Run data is saved locally in <code>/home/indika/Programming/Projects/Python/Artifical-Intelligence/PyTorch/CNN/Butterfly-Image-Classification-50-species/wandb/run-20210904_175005-eysawxaj</code><br/><br/>\n",
       "            "
      ],
      "text/plain": [
       "<IPython.core.display.HTML object>"
      ]
     },
     "metadata": {},
     "output_type": "display_data"
    },
    {
     "name": "stderr",
     "output_type": "stream",
     "text": [
      "100%|█████████████████████████████████████████| 100/100 [03:41<00:00,  2.22s/it]\n"
     ]
    },
    {
     "data": {
      "text/html": [
       "<br/>Waiting for W&B process to finish, PID 103203<br/>Program ended successfully."
      ],
      "text/plain": [
       "<IPython.core.display.HTML object>"
      ]
     },
     "metadata": {},
     "output_type": "display_data"
    }
   ],
   "source": [
    "wandb.init(project=PROJECT_NAME,name='baseline')\n",
    "for _ in tqdm(range(epochs)):\n",
    "    for i in range(0,len(X_train),batch_size):\n",
    "        X_batch = X_train[i:i+batch_size].to(device).float().view(-1,3,112,112)\n",
    "        y_batch = y_train[i:i+batch_size].to(device)\n",
    "        preds = model(X_batch)\n",
    "        loss = criterion(preds,y_batch.long())\n",
    "        optimizer.zero_grad()\n",
    "        loss.backward()\n",
    "        optimizer.step()\n",
    "    wandb.log({'Loss':get_loss(model,X_train,y_train,criterion)})\n",
    "    wandb.log({'Val Loss':get_loss(model,X_test,y_test,criterion)})\n",
    "    wandb.log({'Acc':get_accuracy(model,X_train,y_train)})\n",
    "    wandb.log({'Val Acc':get_accuracy(model,X_test,y_test)})\n",
    "    get_pred(model)\n",
    "    for file in os.listdir('./preds/'):\n",
    "        wandb.log({f'Img/{file}':wandb.Image(cv2.imread(f'./preds/{file}'))})\n",
    "wandb.finish()"
   ]
  },
  {
   "cell_type": "code",
   "execution_count": 27,
   "id": "c5c7b335-28bc-4812-8233-67ef8569303a",
   "metadata": {},
   "outputs": [],
   "source": []
  },
  {
   "cell_type": "code",
   "execution_count": null,
   "id": "9e07f13a-7ba7-40e5-b3ee-c9f1ca18d533",
   "metadata": {},
   "outputs": [],
   "source": []
  }
 ],
 "metadata": {
  "kernelspec": {
   "display_name": "Python 3.7.3 64-bit ('base': conda)",
   "language": "python",
   "name": "python373jvsc74a57bd0210f9608a45c0278a93c9e0b10db32a427986ab48cfc0d20c139811eb78c4bbc"
  },
  "language_info": {
   "codemirror_mode": {
    "name": "ipython",
    "version": 3
   },
   "file_extension": ".py",
   "mimetype": "text/x-python",
   "name": "python",
   "nbconvert_exporter": "python",
   "pygments_lexer": "ipython3",
   "version": "3.7.11"
  }
 },
 "nbformat": 4,
 "nbformat_minor": 5
}
